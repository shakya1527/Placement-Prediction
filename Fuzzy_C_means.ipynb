{
  "nbformat": 4,
  "nbformat_minor": 0,
  "metadata": {
    "colab": {
      "provenance": [],
      "include_colab_link": true
    },
    "kernelspec": {
      "name": "python3",
      "display_name": "Python 3"
    },
    "language_info": {
      "name": "python"
    }
  },
  "cells": [
    {
      "cell_type": "markdown",
      "metadata": {
        "id": "view-in-github",
        "colab_type": "text"
      },
      "source": [
        "<a href=\"https://colab.research.google.com/github/shakya1527/Placement-Prediction/blob/main/Fuzzy_C_means.ipynb\" target=\"_parent\"><img src=\"https://colab.research.google.com/assets/colab-badge.svg\" alt=\"Open In Colab\"/></a>"
      ]
    },
    {
      "cell_type": "code",
      "source": [
        "!pip install fuzzy-c-means"
      ],
      "metadata": {
        "colab": {
          "base_uri": "https://localhost:8080/"
        },
        "id": "cl443UbPZPmQ",
        "outputId": "2b51635e-16fc-45f6-d806-6a4dc7f7cb1a"
      },
      "execution_count": null,
      "outputs": [
        {
          "output_type": "stream",
          "name": "stdout",
          "text": [
            "Looking in indexes: https://pypi.org/simple, https://us-python.pkg.dev/colab-wheels/public/simple/\n",
            "Collecting fuzzy-c-means\n",
            "  Downloading fuzzy_c_means-1.7.0-py3-none-any.whl (9.0 kB)\n",
            "Requirement already satisfied: tqdm<5.0.0,>=4.64.1 in /usr/local/lib/python3.10/dist-packages (from fuzzy-c-means) (4.65.0)\n",
            "Collecting typer<0.5.0,>=0.4.0\n",
            "  Downloading typer-0.4.2-py3-none-any.whl (27 kB)\n",
            "Requirement already satisfied: pydantic<2.0.0,>=1.9.0 in /usr/local/lib/python3.10/dist-packages (from fuzzy-c-means) (1.10.7)\n",
            "Requirement already satisfied: tabulate<0.9.0,>=0.8.9 in /usr/local/lib/python3.10/dist-packages (from fuzzy-c-means) (0.8.10)\n",
            "Requirement already satisfied: joblib<2.0.0,>=1.2.0 in /usr/local/lib/python3.10/dist-packages (from fuzzy-c-means) (1.2.0)\n",
            "Requirement already satisfied: numpy<2.0.0,>=1.21.1 in /usr/local/lib/python3.10/dist-packages (from fuzzy-c-means) (1.22.4)\n",
            "Requirement already satisfied: typing-extensions>=4.2.0 in /usr/local/lib/python3.10/dist-packages (from pydantic<2.0.0,>=1.9.0->fuzzy-c-means) (4.5.0)\n",
            "Requirement already satisfied: click<9.0.0,>=7.1.1 in /usr/local/lib/python3.10/dist-packages (from typer<0.5.0,>=0.4.0->fuzzy-c-means) (8.1.3)\n",
            "Installing collected packages: typer, fuzzy-c-means\n",
            "  Attempting uninstall: typer\n",
            "    Found existing installation: typer 0.7.0\n",
            "    Uninstalling typer-0.7.0:\n",
            "      Successfully uninstalled typer-0.7.0\n",
            "Successfully installed fuzzy-c-means-1.7.0 typer-0.4.2\n"
          ]
        }
      ]
    },
    {
      "cell_type": "code",
      "source": [
        "import numpy as np\n",
        "import pandas as pd\n",
        "from fcmeans import FCM\n",
        "import matplotlib.pyplot as plt\n",
        "%matplotlib inline"
      ],
      "metadata": {
        "id": "ZvvVhY_DZbFR"
      },
      "execution_count": null,
      "outputs": []
    },
    {
      "cell_type": "code",
      "source": [
        "df = pd.read_csv('/content/StudentInfo1.csv')"
      ],
      "metadata": {
        "id": "tRMJd7ezZgo1"
      },
      "execution_count": null,
      "outputs": []
    },
    {
      "cell_type": "code",
      "source": [
        "df"
      ],
      "metadata": {
        "colab": {
          "base_uri": "https://localhost:8080/",
          "height": 424
        },
        "id": "byATxf19Z73X",
        "outputId": "6ce2c035-e66d-458a-d96a-f30c8c3d508d"
      },
      "execution_count": null,
      "outputs": [
        {
          "output_type": "execute_result",
          "data": {
            "text/plain": [
              "               Your Name   Roll Number                       Email ID Course  \\\n",
              "0       Piyush Khandelia  BCA/40541/20  piyushkhandelia2002@gmail.com    BCA   \n",
              "1           Kumari priya  BCA/40018/20            kp6273275@gmail.com    BCA   \n",
              "2           Raunak kumar  BCA/40545/20      ujjwalmishra916@gmail.com    BCA   \n",
              "3           Komal Kumari  BCA/40016/20          kchoubey905@gmail.com    BCA   \n",
              "4           Swati kumari  BCA/40008/20      kumariswati7321@gmail.com    BCA   \n",
              "..                   ...           ...                            ...    ...   \n",
              "84          Ankur Aayush  BCA/40517/20     bca40517.20@bitmesra.ac.in    BCA   \n",
              "85            Aman kumar  BCA/40522/20     bca40522.20@bitmesra.ac.in    BCA   \n",
              "86        Kumar Anshuman  BCA/40516/20     bca40516.20@bitmesra.ac.in    BCA   \n",
              "87  Sanjeev Kumar Sharma  BCA/40566/20     bca40566.20@bitmesra.ac.in    BCA   \n",
              "88                 Ishan  BCA/40586/20     bca40586.20@bitmesra.ac.in    BCA   \n",
              "\n",
              "   Semester  S.G.P.A Backlog Backlog Subject  Score  \n",
              "0         6     8.70      No             NaN     86  \n",
              "1         6     7.91      No            Null     40  \n",
              "2         6     7.92      No               0     90  \n",
              "3       6th     8.80      No             NaN     98  \n",
              "4       6th     6.08      No           Clear     64  \n",
              "..      ...      ...     ...             ...    ...  \n",
              "84      6th     7.63      No            Null     32  \n",
              "85      6th     8.10      No            Null     62  \n",
              "86      6th     8.64      No            Null     52  \n",
              "87      6th     7.83      No            Null     40  \n",
              "88      6th     7.83      No            Null     62  \n",
              "\n",
              "[89 rows x 9 columns]"
            ],
            "text/html": [
              "\n",
              "  <div id=\"df-adf26c65-5142-439e-a1b6-75cf80bd0a65\">\n",
              "    <div class=\"colab-df-container\">\n",
              "      <div>\n",
              "<style scoped>\n",
              "    .dataframe tbody tr th:only-of-type {\n",
              "        vertical-align: middle;\n",
              "    }\n",
              "\n",
              "    .dataframe tbody tr th {\n",
              "        vertical-align: top;\n",
              "    }\n",
              "\n",
              "    .dataframe thead th {\n",
              "        text-align: right;\n",
              "    }\n",
              "</style>\n",
              "<table border=\"1\" class=\"dataframe\">\n",
              "  <thead>\n",
              "    <tr style=\"text-align: right;\">\n",
              "      <th></th>\n",
              "      <th>Your Name</th>\n",
              "      <th>Roll Number</th>\n",
              "      <th>Email ID</th>\n",
              "      <th>Course</th>\n",
              "      <th>Semester</th>\n",
              "      <th>S.G.P.A</th>\n",
              "      <th>Backlog</th>\n",
              "      <th>Backlog Subject</th>\n",
              "      <th>Score</th>\n",
              "    </tr>\n",
              "  </thead>\n",
              "  <tbody>\n",
              "    <tr>\n",
              "      <th>0</th>\n",
              "      <td>Piyush Khandelia</td>\n",
              "      <td>BCA/40541/20</td>\n",
              "      <td>piyushkhandelia2002@gmail.com</td>\n",
              "      <td>BCA</td>\n",
              "      <td>6</td>\n",
              "      <td>8.70</td>\n",
              "      <td>No</td>\n",
              "      <td>NaN</td>\n",
              "      <td>86</td>\n",
              "    </tr>\n",
              "    <tr>\n",
              "      <th>1</th>\n",
              "      <td>Kumari priya</td>\n",
              "      <td>BCA/40018/20</td>\n",
              "      <td>kp6273275@gmail.com</td>\n",
              "      <td>BCA</td>\n",
              "      <td>6</td>\n",
              "      <td>7.91</td>\n",
              "      <td>No</td>\n",
              "      <td>Null</td>\n",
              "      <td>40</td>\n",
              "    </tr>\n",
              "    <tr>\n",
              "      <th>2</th>\n",
              "      <td>Raunak kumar</td>\n",
              "      <td>BCA/40545/20</td>\n",
              "      <td>ujjwalmishra916@gmail.com</td>\n",
              "      <td>BCA</td>\n",
              "      <td>6</td>\n",
              "      <td>7.92</td>\n",
              "      <td>No</td>\n",
              "      <td>0</td>\n",
              "      <td>90</td>\n",
              "    </tr>\n",
              "    <tr>\n",
              "      <th>3</th>\n",
              "      <td>Komal Kumari</td>\n",
              "      <td>BCA/40016/20</td>\n",
              "      <td>kchoubey905@gmail.com</td>\n",
              "      <td>BCA</td>\n",
              "      <td>6th</td>\n",
              "      <td>8.80</td>\n",
              "      <td>No</td>\n",
              "      <td>NaN</td>\n",
              "      <td>98</td>\n",
              "    </tr>\n",
              "    <tr>\n",
              "      <th>4</th>\n",
              "      <td>Swati kumari</td>\n",
              "      <td>BCA/40008/20</td>\n",
              "      <td>kumariswati7321@gmail.com</td>\n",
              "      <td>BCA</td>\n",
              "      <td>6th</td>\n",
              "      <td>6.08</td>\n",
              "      <td>No</td>\n",
              "      <td>Clear</td>\n",
              "      <td>64</td>\n",
              "    </tr>\n",
              "    <tr>\n",
              "      <th>...</th>\n",
              "      <td>...</td>\n",
              "      <td>...</td>\n",
              "      <td>...</td>\n",
              "      <td>...</td>\n",
              "      <td>...</td>\n",
              "      <td>...</td>\n",
              "      <td>...</td>\n",
              "      <td>...</td>\n",
              "      <td>...</td>\n",
              "    </tr>\n",
              "    <tr>\n",
              "      <th>84</th>\n",
              "      <td>Ankur Aayush</td>\n",
              "      <td>BCA/40517/20</td>\n",
              "      <td>bca40517.20@bitmesra.ac.in</td>\n",
              "      <td>BCA</td>\n",
              "      <td>6th</td>\n",
              "      <td>7.63</td>\n",
              "      <td>No</td>\n",
              "      <td>Null</td>\n",
              "      <td>32</td>\n",
              "    </tr>\n",
              "    <tr>\n",
              "      <th>85</th>\n",
              "      <td>Aman kumar</td>\n",
              "      <td>BCA/40522/20</td>\n",
              "      <td>bca40522.20@bitmesra.ac.in</td>\n",
              "      <td>BCA</td>\n",
              "      <td>6th</td>\n",
              "      <td>8.10</td>\n",
              "      <td>No</td>\n",
              "      <td>Null</td>\n",
              "      <td>62</td>\n",
              "    </tr>\n",
              "    <tr>\n",
              "      <th>86</th>\n",
              "      <td>Kumar Anshuman</td>\n",
              "      <td>BCA/40516/20</td>\n",
              "      <td>bca40516.20@bitmesra.ac.in</td>\n",
              "      <td>BCA</td>\n",
              "      <td>6th</td>\n",
              "      <td>8.64</td>\n",
              "      <td>No</td>\n",
              "      <td>Null</td>\n",
              "      <td>52</td>\n",
              "    </tr>\n",
              "    <tr>\n",
              "      <th>87</th>\n",
              "      <td>Sanjeev Kumar Sharma</td>\n",
              "      <td>BCA/40566/20</td>\n",
              "      <td>bca40566.20@bitmesra.ac.in</td>\n",
              "      <td>BCA</td>\n",
              "      <td>6th</td>\n",
              "      <td>7.83</td>\n",
              "      <td>No</td>\n",
              "      <td>Null</td>\n",
              "      <td>40</td>\n",
              "    </tr>\n",
              "    <tr>\n",
              "      <th>88</th>\n",
              "      <td>Ishan</td>\n",
              "      <td>BCA/40586/20</td>\n",
              "      <td>bca40586.20@bitmesra.ac.in</td>\n",
              "      <td>BCA</td>\n",
              "      <td>6th</td>\n",
              "      <td>7.83</td>\n",
              "      <td>No</td>\n",
              "      <td>Null</td>\n",
              "      <td>62</td>\n",
              "    </tr>\n",
              "  </tbody>\n",
              "</table>\n",
              "<p>89 rows × 9 columns</p>\n",
              "</div>\n",
              "      <button class=\"colab-df-convert\" onclick=\"convertToInteractive('df-adf26c65-5142-439e-a1b6-75cf80bd0a65')\"\n",
              "              title=\"Convert this dataframe to an interactive table.\"\n",
              "              style=\"display:none;\">\n",
              "        \n",
              "  <svg xmlns=\"http://www.w3.org/2000/svg\" height=\"24px\"viewBox=\"0 0 24 24\"\n",
              "       width=\"24px\">\n",
              "    <path d=\"M0 0h24v24H0V0z\" fill=\"none\"/>\n",
              "    <path d=\"M18.56 5.44l.94 2.06.94-2.06 2.06-.94-2.06-.94-.94-2.06-.94 2.06-2.06.94zm-11 1L8.5 8.5l.94-2.06 2.06-.94-2.06-.94L8.5 2.5l-.94 2.06-2.06.94zm10 10l.94 2.06.94-2.06 2.06-.94-2.06-.94-.94-2.06-.94 2.06-2.06.94z\"/><path d=\"M17.41 7.96l-1.37-1.37c-.4-.4-.92-.59-1.43-.59-.52 0-1.04.2-1.43.59L10.3 9.45l-7.72 7.72c-.78.78-.78 2.05 0 2.83L4 21.41c.39.39.9.59 1.41.59.51 0 1.02-.2 1.41-.59l7.78-7.78 2.81-2.81c.8-.78.8-2.07 0-2.86zM5.41 20L4 18.59l7.72-7.72 1.47 1.35L5.41 20z\"/>\n",
              "  </svg>\n",
              "      </button>\n",
              "      \n",
              "  <style>\n",
              "    .colab-df-container {\n",
              "      display:flex;\n",
              "      flex-wrap:wrap;\n",
              "      gap: 12px;\n",
              "    }\n",
              "\n",
              "    .colab-df-convert {\n",
              "      background-color: #E8F0FE;\n",
              "      border: none;\n",
              "      border-radius: 50%;\n",
              "      cursor: pointer;\n",
              "      display: none;\n",
              "      fill: #1967D2;\n",
              "      height: 32px;\n",
              "      padding: 0 0 0 0;\n",
              "      width: 32px;\n",
              "    }\n",
              "\n",
              "    .colab-df-convert:hover {\n",
              "      background-color: #E2EBFA;\n",
              "      box-shadow: 0px 1px 2px rgba(60, 64, 67, 0.3), 0px 1px 3px 1px rgba(60, 64, 67, 0.15);\n",
              "      fill: #174EA6;\n",
              "    }\n",
              "\n",
              "    [theme=dark] .colab-df-convert {\n",
              "      background-color: #3B4455;\n",
              "      fill: #D2E3FC;\n",
              "    }\n",
              "\n",
              "    [theme=dark] .colab-df-convert:hover {\n",
              "      background-color: #434B5C;\n",
              "      box-shadow: 0px 1px 3px 1px rgba(0, 0, 0, 0.15);\n",
              "      filter: drop-shadow(0px 1px 2px rgba(0, 0, 0, 0.3));\n",
              "      fill: #FFFFFF;\n",
              "    }\n",
              "  </style>\n",
              "\n",
              "      <script>\n",
              "        const buttonEl =\n",
              "          document.querySelector('#df-adf26c65-5142-439e-a1b6-75cf80bd0a65 button.colab-df-convert');\n",
              "        buttonEl.style.display =\n",
              "          google.colab.kernel.accessAllowed ? 'block' : 'none';\n",
              "\n",
              "        async function convertToInteractive(key) {\n",
              "          const element = document.querySelector('#df-adf26c65-5142-439e-a1b6-75cf80bd0a65');\n",
              "          const dataTable =\n",
              "            await google.colab.kernel.invokeFunction('convertToInteractive',\n",
              "                                                     [key], {});\n",
              "          if (!dataTable) return;\n",
              "\n",
              "          const docLinkHtml = 'Like what you see? Visit the ' +\n",
              "            '<a target=\"_blank\" href=https://colab.research.google.com/notebooks/data_table.ipynb>data table notebook</a>'\n",
              "            + ' to learn more about interactive tables.';\n",
              "          element.innerHTML = '';\n",
              "          dataTable['output_type'] = 'display_data';\n",
              "          await google.colab.output.renderOutput(dataTable, element);\n",
              "          const docLink = document.createElement('div');\n",
              "          docLink.innerHTML = docLinkHtml;\n",
              "          element.appendChild(docLink);\n",
              "        }\n",
              "      </script>\n",
              "    </div>\n",
              "  </div>\n",
              "  "
            ]
          },
          "metadata": {},
          "execution_count": 4
        }
      ]
    },
    {
      "cell_type": "code",
      "source": [
        "x = df[['S.G.P.A','Score']]\n",
        "x"
      ],
      "metadata": {
        "colab": {
          "base_uri": "https://localhost:8080/",
          "height": 424
        },
        "id": "ab781XoPZ_7i",
        "outputId": "9bf7eb63-9d3f-4aba-9179-46cc7e9d42dc"
      },
      "execution_count": null,
      "outputs": [
        {
          "output_type": "execute_result",
          "data": {
            "text/plain": [
              "    S.G.P.A  Score\n",
              "0      8.70     86\n",
              "1      7.91     40\n",
              "2      7.92     90\n",
              "3      8.80     98\n",
              "4      6.08     64\n",
              "..      ...    ...\n",
              "84     7.63     32\n",
              "85     8.10     62\n",
              "86     8.64     52\n",
              "87     7.83     40\n",
              "88     7.83     62\n",
              "\n",
              "[89 rows x 2 columns]"
            ],
            "text/html": [
              "\n",
              "  <div id=\"df-fc4b8699-5fcf-4731-a1ad-db3874b61f2b\">\n",
              "    <div class=\"colab-df-container\">\n",
              "      <div>\n",
              "<style scoped>\n",
              "    .dataframe tbody tr th:only-of-type {\n",
              "        vertical-align: middle;\n",
              "    }\n",
              "\n",
              "    .dataframe tbody tr th {\n",
              "        vertical-align: top;\n",
              "    }\n",
              "\n",
              "    .dataframe thead th {\n",
              "        text-align: right;\n",
              "    }\n",
              "</style>\n",
              "<table border=\"1\" class=\"dataframe\">\n",
              "  <thead>\n",
              "    <tr style=\"text-align: right;\">\n",
              "      <th></th>\n",
              "      <th>S.G.P.A</th>\n",
              "      <th>Score</th>\n",
              "    </tr>\n",
              "  </thead>\n",
              "  <tbody>\n",
              "    <tr>\n",
              "      <th>0</th>\n",
              "      <td>8.70</td>\n",
              "      <td>86</td>\n",
              "    </tr>\n",
              "    <tr>\n",
              "      <th>1</th>\n",
              "      <td>7.91</td>\n",
              "      <td>40</td>\n",
              "    </tr>\n",
              "    <tr>\n",
              "      <th>2</th>\n",
              "      <td>7.92</td>\n",
              "      <td>90</td>\n",
              "    </tr>\n",
              "    <tr>\n",
              "      <th>3</th>\n",
              "      <td>8.80</td>\n",
              "      <td>98</td>\n",
              "    </tr>\n",
              "    <tr>\n",
              "      <th>4</th>\n",
              "      <td>6.08</td>\n",
              "      <td>64</td>\n",
              "    </tr>\n",
              "    <tr>\n",
              "      <th>...</th>\n",
              "      <td>...</td>\n",
              "      <td>...</td>\n",
              "    </tr>\n",
              "    <tr>\n",
              "      <th>84</th>\n",
              "      <td>7.63</td>\n",
              "      <td>32</td>\n",
              "    </tr>\n",
              "    <tr>\n",
              "      <th>85</th>\n",
              "      <td>8.10</td>\n",
              "      <td>62</td>\n",
              "    </tr>\n",
              "    <tr>\n",
              "      <th>86</th>\n",
              "      <td>8.64</td>\n",
              "      <td>52</td>\n",
              "    </tr>\n",
              "    <tr>\n",
              "      <th>87</th>\n",
              "      <td>7.83</td>\n",
              "      <td>40</td>\n",
              "    </tr>\n",
              "    <tr>\n",
              "      <th>88</th>\n",
              "      <td>7.83</td>\n",
              "      <td>62</td>\n",
              "    </tr>\n",
              "  </tbody>\n",
              "</table>\n",
              "<p>89 rows × 2 columns</p>\n",
              "</div>\n",
              "      <button class=\"colab-df-convert\" onclick=\"convertToInteractive('df-fc4b8699-5fcf-4731-a1ad-db3874b61f2b')\"\n",
              "              title=\"Convert this dataframe to an interactive table.\"\n",
              "              style=\"display:none;\">\n",
              "        \n",
              "  <svg xmlns=\"http://www.w3.org/2000/svg\" height=\"24px\"viewBox=\"0 0 24 24\"\n",
              "       width=\"24px\">\n",
              "    <path d=\"M0 0h24v24H0V0z\" fill=\"none\"/>\n",
              "    <path d=\"M18.56 5.44l.94 2.06.94-2.06 2.06-.94-2.06-.94-.94-2.06-.94 2.06-2.06.94zm-11 1L8.5 8.5l.94-2.06 2.06-.94-2.06-.94L8.5 2.5l-.94 2.06-2.06.94zm10 10l.94 2.06.94-2.06 2.06-.94-2.06-.94-.94-2.06-.94 2.06-2.06.94z\"/><path d=\"M17.41 7.96l-1.37-1.37c-.4-.4-.92-.59-1.43-.59-.52 0-1.04.2-1.43.59L10.3 9.45l-7.72 7.72c-.78.78-.78 2.05 0 2.83L4 21.41c.39.39.9.59 1.41.59.51 0 1.02-.2 1.41-.59l7.78-7.78 2.81-2.81c.8-.78.8-2.07 0-2.86zM5.41 20L4 18.59l7.72-7.72 1.47 1.35L5.41 20z\"/>\n",
              "  </svg>\n",
              "      </button>\n",
              "      \n",
              "  <style>\n",
              "    .colab-df-container {\n",
              "      display:flex;\n",
              "      flex-wrap:wrap;\n",
              "      gap: 12px;\n",
              "    }\n",
              "\n",
              "    .colab-df-convert {\n",
              "      background-color: #E8F0FE;\n",
              "      border: none;\n",
              "      border-radius: 50%;\n",
              "      cursor: pointer;\n",
              "      display: none;\n",
              "      fill: #1967D2;\n",
              "      height: 32px;\n",
              "      padding: 0 0 0 0;\n",
              "      width: 32px;\n",
              "    }\n",
              "\n",
              "    .colab-df-convert:hover {\n",
              "      background-color: #E2EBFA;\n",
              "      box-shadow: 0px 1px 2px rgba(60, 64, 67, 0.3), 0px 1px 3px 1px rgba(60, 64, 67, 0.15);\n",
              "      fill: #174EA6;\n",
              "    }\n",
              "\n",
              "    [theme=dark] .colab-df-convert {\n",
              "      background-color: #3B4455;\n",
              "      fill: #D2E3FC;\n",
              "    }\n",
              "\n",
              "    [theme=dark] .colab-df-convert:hover {\n",
              "      background-color: #434B5C;\n",
              "      box-shadow: 0px 1px 3px 1px rgba(0, 0, 0, 0.15);\n",
              "      filter: drop-shadow(0px 1px 2px rgba(0, 0, 0, 0.3));\n",
              "      fill: #FFFFFF;\n",
              "    }\n",
              "  </style>\n",
              "\n",
              "      <script>\n",
              "        const buttonEl =\n",
              "          document.querySelector('#df-fc4b8699-5fcf-4731-a1ad-db3874b61f2b button.colab-df-convert');\n",
              "        buttonEl.style.display =\n",
              "          google.colab.kernel.accessAllowed ? 'block' : 'none';\n",
              "\n",
              "        async function convertToInteractive(key) {\n",
              "          const element = document.querySelector('#df-fc4b8699-5fcf-4731-a1ad-db3874b61f2b');\n",
              "          const dataTable =\n",
              "            await google.colab.kernel.invokeFunction('convertToInteractive',\n",
              "                                                     [key], {});\n",
              "          if (!dataTable) return;\n",
              "\n",
              "          const docLinkHtml = 'Like what you see? Visit the ' +\n",
              "            '<a target=\"_blank\" href=https://colab.research.google.com/notebooks/data_table.ipynb>data table notebook</a>'\n",
              "            + ' to learn more about interactive tables.';\n",
              "          element.innerHTML = '';\n",
              "          dataTable['output_type'] = 'display_data';\n",
              "          await google.colab.output.renderOutput(dataTable, element);\n",
              "          const docLink = document.createElement('div');\n",
              "          docLink.innerHTML = docLinkHtml;\n",
              "          element.appendChild(docLink);\n",
              "        }\n",
              "      </script>\n",
              "    </div>\n",
              "  </div>\n",
              "  "
            ]
          },
          "metadata": {},
          "execution_count": 5
        }
      ]
    },
    {
      "cell_type": "code",
      "source": [
        "plt.scatter(df['S.G.P.A'],df['Score'])"
      ],
      "metadata": {
        "colab": {
          "base_uri": "https://localhost:8080/",
          "height": 447
        },
        "id": "Y_QRBNO5aGN3",
        "outputId": "a660348b-b311-4fd9-de6f-fd043e9eb388"
      },
      "execution_count": null,
      "outputs": [
        {
          "output_type": "execute_result",
          "data": {
            "text/plain": [
              "<matplotlib.collections.PathCollection at 0x7fdbf0e95a20>"
            ]
          },
          "metadata": {},
          "execution_count": 6
        },
        {
          "output_type": "display_data",
          "data": {
            "text/plain": [
              "<Figure size 640x480 with 1 Axes>"
            ],
            "image/png": "[encoded data removed]"
          },
          "metadata": {}
        }
      ]
    },
    {
      "cell_type": "code",
      "source": [
        "from sklearn.preprocessing import StandardScaler"
      ],
      "metadata": {
        "id": "RT5zYV68aPN0"
      },
      "execution_count": null,
      "outputs": []
    },
    {
      "cell_type": "code",
      "source": [
        "scale = StandardScaler()\n",
        "scaledx = scale.fit_transform(x)\n",
        "scaledx[:5]"
      ],
      "metadata": {
        "colab": {
          "base_uri": "https://localhost:8080/"
        },
        "id": "5wmVRc74aYFG",
        "outputId": "eafd176d-59ca-47c4-d106-a78b02ab9972"
      },
      "execution_count": null,
      "outputs": [
        {
          "output_type": "execute_result",
          "data": {
            "text/plain": [
              "array([[ 0.53057274,  1.08048825],\n",
              "       [-0.36168896, -1.09216347],\n",
              "       [-0.35039451,  1.26941449],\n",
              "       [ 0.64351726,  1.64726696],\n",
              "       [-2.42857366,  0.04139395]])"
            ]
          },
          "metadata": {},
          "execution_count": 8
        }
      ]
    },
    {
      "cell_type": "code",
      "source": [
        "new_data = pd.DataFrame(scaledx, columns = ['Scaled S.G.P.A','Scaled IQ Score'])\n",
        "print(new_data)"
      ],
      "metadata": {
        "colab": {
          "base_uri": "https://localhost:8080/"
        },
        "id": "P8ZymdOgcpHV",
        "outputId": "50f839a2-1503-400a-b99b-41b11e8dd672"
      },
      "execution_count": null,
      "outputs": [
        {
          "output_type": "stream",
          "name": "stdout",
          "text": [
            "    Scaled S.G.P.A  Scaled IQ Score\n",
            "0         0.530573         1.080488\n",
            "1        -0.361689        -1.092163\n",
            "2        -0.350395         1.269414\n",
            "3         0.643517         1.647267\n",
            "4        -2.428574         0.041394\n",
            "..             ...              ...\n",
            "84       -0.677934        -1.470016\n",
            "85       -0.147094        -0.053069\n",
            "86        0.462806        -0.525385\n",
            "87       -0.452045        -1.092163\n",
            "88       -0.452045        -0.053069\n",
            "\n",
            "[89 rows x 2 columns]\n"
          ]
        }
      ]
    },
    {
      "cell_type": "code",
      "source": [
        "y = new_data.iloc[:,:].values\n",
        "fcm = FCM (n_clusters=4)\n",
        "fcm.fit(y)\n",
        "labels = fcm.predict(y)"
      ],
      "metadata": {
        "id": "tXzUykesadCc"
      },
      "execution_count": null,
      "outputs": []
    },
    {
      "cell_type": "code",
      "source": [
        "centroids = fcm.centers"
      ],
      "metadata": {
        "id": "wx6EJVVCdD-L"
      },
      "execution_count": null,
      "outputs": []
    },
    {
      "cell_type": "code",
      "source": [
        "centroids"
      ],
      "metadata": {
        "colab": {
          "base_uri": "https://localhost:8080/"
        },
        "id": "QtI4A23xditn",
        "outputId": "d67923aa-57c2-494d-f419-52a43ea8c813"
      },
      "execution_count": null,
      "outputs": [
        {
          "output_type": "execute_result",
          "data": {
            "text/plain": [
              "array([[-0.84704349, -1.03106969],\n",
              "       [-0.4918086 ,  0.24216745],\n",
              "       [ 0.87739588, -0.86653222],\n",
              "       [ 0.50198   ,  1.07722052]])"
            ]
          },
          "metadata": {},
          "execution_count": 36
        }
      ]
    },
    {
      "cell_type": "code",
      "source": [
        "labels"
      ],
      "metadata": {
        "colab": {
          "base_uri": "https://localhost:8080/"
        },
        "id": "rwyXCNWNbCnR",
        "outputId": "ef5b3dbf-cb29-4692-a911-d64e1aa20a59"
      },
      "execution_count": null,
      "outputs": [
        {
          "output_type": "execute_result",
          "data": {
            "text/plain": [
              "array([3, 0, 3, 3, 0, 3, 3, 0, 1, 3, 3, 3, 3, 1, 3, 3, 2, 1, 1, 3, 3, 3,\n",
              "       0, 2, 1, 3, 3, 2, 1, 3, 2, 3, 2, 1, 1, 2, 3, 2, 1, 1, 2, 1, 3, 2,\n",
              "       1, 3, 3, 3, 3, 2, 1, 3, 1, 2, 1, 2, 0, 1, 1, 3, 0, 0, 3, 0, 2, 1,\n",
              "       0, 2, 2, 0, 2, 2, 2, 0, 2, 0, 0, 2, 0, 0, 2, 1, 3, 1, 0, 1, 2, 0,\n",
              "       1])"
            ]
          },
          "metadata": {},
          "execution_count": 33
        }
      ]
    },
    {
      "cell_type": "code",
      "source": [
        "plt.scatter(y[labels == 0,0],y[labels == 0,1],color='blue', s=60, label = 'Cluster1')\n",
        "plt.scatter(y[labels == 1,0],y[labels == 1,1],color='red', s=60, label='Cluster 2')\n",
        "plt.scatter(y[labels == 2,0],y[labels == 2,1],color='green', s=60, label='Cluster 3')\n",
        "plt.scatter(y[labels == 3,0],y[labels == 3,1],color='yellow', s=60, label='Cluster 4')\n",
        "plt.scatter(centroids[:, 0], centroids[:, 1], s = 80, color = 'black', label = 'Centroids')\n",
        "plt.legend()\n",
        "plt.xlabel('S.G.P.A')\n",
        "plt.ylabel('IQ Score')\n",
        "plt.title(\"Fuzzy C-means Clustering\")"
      ],
      "metadata": {
        "colab": {
          "base_uri": "https://localhost:8080/",
          "height": 489
        },
        "id": "l2LNjC4Fbcua",
        "outputId": "fee2a4b3-7900-4efd-935b-bae358078cbc"
      },
      "execution_count": null,
      "outputs": [
        {
          "output_type": "execute_result",
          "data": {
            "text/plain": [
              "Text(0.5, 1.0, 'Fuzzy C-means Clustering')"
            ]
          },
          "metadata": {},
          "execution_count": 37
        },
        {
          "output_type": "display_data",
          "data": {
            "text/plain": [
              "<Figure size 640x480 with 1 Axes>"
            ],
            "image/png": "[encoded data removed]"
          },
          "metadata": {}
        }
      ]
    },
    {
      "cell_type": "code",
      "source": [
        "#Calculate Silhoutte Score\n",
        "\n",
        "from sklearn.metrics import silhouette_score\n",
        "score = silhouette_score(new_data, labels, metric='euclidean')\n",
        "print('Silhouette Score of Fuzzy C-means: %.3f' % score)"
      ],
      "metadata": {
        "colab": {
          "base_uri": "https://localhost:8080/"
        },
        "id": "x0GKgQvIdQA-",
        "outputId": "3df51e47-bfce-448a-a11f-0c3c83f4fc08"
      },
      "execution_count": null,
      "outputs": [
        {
          "output_type": "stream",
          "name": "stdout",
          "text": [
            "Silhouette Score of Fuzzy C-means: 0.362\n"
          ]
        }
      ]
    }
  ]
}